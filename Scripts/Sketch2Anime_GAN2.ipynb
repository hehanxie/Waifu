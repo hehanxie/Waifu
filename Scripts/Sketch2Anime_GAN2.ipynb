{
  "nbformat": 4,
  "nbformat_minor": 0,
  "metadata": {
    "colab": {
      "name": "Copy of Sketch2Anime - GAN.ipynb",
      "provenance": [],
      "collapsed_sections": [],
      "machine_shape": "hm"
    },
    "kernelspec": {
      "name": "python3",
      "display_name": "Python 3"
    },
    "accelerator": "GPU"
  },
  "cells": [
    {
      "cell_type": "code",
      "metadata": {
        "id": "qv2cd7z4buIZ"
      },
      "source": [
        "import os\n",
        "import time\n",
        "import torch\n",
        "import torch as nn\n",
        "import numpy as np\n",
        "import torchvision\n",
        "from PIL import Image\n",
        "from models import *\n",
        "from combined_model import *\n",
        "import matplotlib.pyplot as plt\n",
        "from torchvision import transforms\n",
        "from torch.utils.data import Dataset, DataLoader\n",
        "\n",
        "sketch_dir = F'/content/drive/My Drive/CSCI566/Data/simpler_sketch'\n",
        "target_dir = F'/content/drive/My Drive/CSCI566/Data/target_10w'\n",
        "model_dir = F'/content/drive/My Drive/CSCI566/Model_state'"
      ],
      "execution_count": null,
      "outputs": []
    },
    {
      "cell_type": "code",
      "metadata": {
        "id": "-KNujSrpJje4"
      },
      "source": [
        "def imshow_sketch(img):\n",
        "    img = img / 2 + 0.5\n",
        "    npimg = img.numpy()\n",
        "    npimg = np.clip(npimg, 0, 1)\n",
        "    plt.imshow(np.transpose(npimg, (1, 2, 0)))\n",
        "    plt.show()\n",
        "\n",
        "def imshow_rgb(img):\n",
        "    npimg = img.numpy().transpose((1, 2, 0))\n",
        "    mean, std = np.array([0.5, 0.5, 0.5]), np.array([0.5, 0.5, 0.5])\n",
        "    npimg = npimg * std + mean\n",
        "    npimg = np.clip(npimg, 0, 1)\n",
        "    plt.imshow(npimg)\n",
        "    plt.show()\n",
        "\n",
        "class AnimeSketchDataset(Dataset):\n",
        "    \"\"\"Anime Sketches dataset converted from the original pictures\"\"\"\n",
        "    \n",
        "    def __init__(self, sketch_dir, target_dir, transform=None):\n",
        "        \n",
        "        \"\"\"\n",
        "        Args:\n",
        "            img_names (string): a path to a txt file of sketches file names seperated by comma.\n",
        "            sketch_dir (string): directory with all converted sketches.\n",
        "            target_dir (string): directory with all target images.\n",
        "            transform (callable, optional): optional transform to be applied on a sample.\n",
        "        \"\"\"\n",
        "        \n",
        "        # self.names = os.listdir(sketch_dir)\n",
        "        self.names = [str(num) + '.jpg' for num in range(0, 100000)] \n",
        "        self.sketch_dir = sketch_dir\n",
        "        self.target_dir = target_dir\n",
        "        self.transform = transform\n",
        "        \n",
        "    def __len__(self):\n",
        "        return len(self.names)\n",
        "    \n",
        "    def __getitem__(self, idx):\n",
        "        \n",
        "        target = os.path.join(self.target_dir, self.names[idx])\n",
        "        sketch = os.path.join(self.sketch_dir, self.names[idx])\n",
        "        s = Image.open(sketch).convert('L')\n",
        "        t = Image.open(target)\n",
        "        \n",
        "        if self.transform:\n",
        "            s = self.transform['sketch'](s)\n",
        "            t = self.transform['rgb'](t)\n",
        "            \n",
        "        return {'sketch': s, 'target': t, 'image_name': self.names[idx]}\n",
        "\n",
        "transform = {'sketch': transforms.Compose([transforms.ToTensor(),\n",
        "                                           transforms.Normalize((0.5), (0.5))]),\n",
        "             'rgb': transforms.Compose([transforms.ToTensor(),\n",
        "                                        transforms.Normalize((0.5, 0.5, 0.5), (0.5, 0.5, 0.5))])\n",
        "            }\n",
        "\n",
        "######################################## tune #########################################\n",
        "params = {\n",
        "    'CAE_norm': 'instance',\n",
        "    'FD_norm': 'instance',\n",
        "    'FD_output_channels': 1,\n",
        "    'G_input_nc': 1,\n",
        "    'ngf': 4,\n",
        "    'G_norm': 'instance',\n",
        "    'G_n_downsampling': 3, # if changed, modification needed in networks.py\n",
        "    'G_n_blocks': 1,\n",
        "    'D_n_downsampling': 3, # if changed, modification needed in networks.py\n",
        "    'D_n_blocks': 0,\n",
        "    'parts': {\n",
        "        'face': {\n",
        "            'cae_weights': os.path.join(model_dir, 'ae_model_ss_30ep.pt')\n",
        "        }\n",
        "    }\n",
        "\n",
        "}\n",
        "\n",
        "batch_size = 10\n",
        "max_epoch = 1\n",
        "learning_rate = 2e-4\n",
        "betas = (0.5, 0.999)\n",
        "#######################################################################################"
      ],
      "execution_count": null,
      "outputs": []
    },
    {
      "cell_type": "code",
      "metadata": {
        "id": "GUDFraT6LclS"
      },
      "source": [
        "dataset = AnimeSketchDataset(sketch_dir, target_dir, transform)\n",
        "dataloader = DataLoader(dataset, batch_size=batch_size, shuffle=True, num_workers=4)"
      ],
      "execution_count": null,
      "outputs": []
    },
    {
      "cell_type": "code",
      "metadata": {
        "id": "VHov79Brj9Lh"
      },
      "source": [
        "model = Combined_Model(params).cuda()\n",
        "discriminator = netD(params).cuda()\n",
        "\n",
        "crit_m = nn.MSELoss() # subject to change\n",
        "crit_d = nn.BCEWithLogitsLoss()\n",
        "\n",
        "model_params = list(model.part_feature_decoder['face'].parameters()) + list(model.G.parameters())\n",
        "optimizer_m = torch.optim.Adam(model_params, lr=learning_rate, betas=betas)\n",
        "optimizer_d = torch.optim.Adam(discriminator.parameters(), lr=learning_rate, betas=betas)"
      ],
      "execution_count": null,
      "outputs": []
    },
    {
      "cell_type": "code",
      "metadata": {
        "id": "pHsc83WXLqjY"
      },
      "source": [
        "device = torch.device('cuda:0' if torch.cuda.is_available() else 'cpu')\n",
        "\n",
        "model.train()\n",
        "model.part_encoder['face'].eval()\n",
        "discriminator.train()\n",
        "\n",
        "fake_label = torch.zeros([batch_size, 1], device=device)\n",
        "real_label = torch.ones([batch_size, 1], device=device)\n",
        "\n",
        "for epoch in range(max_epoch):\n",
        "  running_m_loss = 0.0\n",
        "  running_d_loss = 0.0\n",
        "  start = time.time()\n",
        "\n",
        "  for i, data in enumerate(dataloader):\n",
        "    sketch_batch = data['sketch'].cuda()\n",
        "    target_batch = data['target'].cuda()\n",
        "\n",
        "    ### Discriminator ###\n",
        "    for p in discriminator.parameters(): p.requires_grad = True\n",
        "    # with real\n",
        "    optimizer_d.zero_grad()\n",
        "    real_dis_out, hints = discriminator(target_batch)\n",
        "    real_dis_loss = crit_d(real_dis_out, real_label)\n",
        "    real_dis_loss.backward()\n",
        "\n",
        "    # with fake\n",
        "    fake_batch, hints = model(sketch_batch, target_batch, hints)\n",
        "    fake_dis_out, _ = discriminator(fake_batch.detach(), hints.detach())\n",
        "    fake_dis_loss = crit_d(fake_dis_out, fake_label)\n",
        "    fake_dis_loss.backward()\n",
        "    optimizer_d.step()\n",
        "\n",
        "    ### Model (Feature Decoder + Generator) ###\n",
        "    for p in discriminator.parameters(): p.requires_grad = False\n",
        "\n",
        "    optimizer_m.zero_grad()\n",
        "    fake_dis_out, _ = discriminator(fake_batch, hints)\n",
        "    gan_loss = crit_d(fake_dis_out, real_label)\n",
        "    content_loss = crit_m(fake_batch, target_batch)\n",
        "    total_loss = gan_loss + content_loss\n",
        "    total_loss.backward()\n",
        "    optimizer_m.step()\n",
        "\n",
        "    running_m_loss += total_loss.item()\n",
        "    running_d_loss += real_dis_loss.item() + fake_dis_loss.item()\n",
        "    if i % 1000 == 999:\n",
        "      end = time.time()\n",
        "      print(f'[{epoch+1},{i+1}] Model loss: {running_m_loss/1000}, Dis loss: {running_d_loss/1000} --- {(end-start)/60} min')\n",
        "      running_m_loss = 0.0\n",
        "      running_d_loss = 0.0\n",
        "      start = time.time()"
      ],
      "execution_count": null,
      "outputs": []
    },
    {
      "cell_type": "code",
      "metadata": {
        "id": "MofxkpYaX2B_"
      },
      "source": [
        "# torch.save(model.state_dict(), os.path.join(model_dir, 'm_1ep.pt'))\n",
        "# torch.save(discriminator.state_dict(), os.path.join(model_dir, 'd_1ep.pt'))\n",
        "# torch.save(optimizer_m.state_dict(), os.path.join(model_dir, 'om_1ep.pt'))\n",
        "# torch.save(optimizer_d.state_dict(), os.path.join(model_dir, 'od_1ep.pt'))"
      ],
      "execution_count": null,
      "outputs": []
    },
    {
      "cell_type": "code",
      "metadata": {
        "id": "nShC9uMTLqlf"
      },
      "source": [
        "torch.save({'model': model.state_dict(),\n",
        "            'discriminator': discriminator.state_dict(),\n",
        "            'optimizer_m': optimizer_m.state_dict(),\n",
        "            'optimizer_d': optimizer_d.state_dict()\n",
        "            }, os.path.join(model_dir, 'full_model_1ep.pt'))"
      ],
      "execution_count": null,
      "outputs": []
    },
    {
      "cell_type": "code",
      "metadata": {
        "id": "9MvCWn2SGLwI",
        "outputId": "26845da3-78eb-4b4a-e275-992f718073b2",
        "colab": {
          "base_uri": "https://localhost:8080/"
        }
      },
      "source": [
        "# checkpoint = torch.load(os.path.join(model_dir, 'full_model_1ep.pt'), map_location=device)\n",
        "# model.load_state_dict(checkpoint['model'])"
      ],
      "execution_count": null,
      "outputs": [
        {
          "output_type": "execute_result",
          "data": {
            "text/plain": [
              "<All keys matched successfully>"
            ]
          },
          "metadata": {
            "tags": []
          },
          "execution_count": 5
        }
      ]
    },
    {
      "cell_type": "code",
      "metadata": {
        "id": "gI30gHtqXwcO"
      },
      "source": [
        "test_sketch=F'/content/drive/My Drive/CSCI566/Data/temp/323.jpg'\n",
        "test_target=F'/content/drive/My Drive/CSCI566/Data/target/323.jpg'\n",
        "\n",
        "model.eval()\n",
        "\n",
        "ske = Image.open(test_sketch).convert('L')\n",
        "tar = Image.open(test_target)\n",
        "ske = transform['sketch'](ske)\n",
        "t = transform['rgb'](tar)\n",
        "imshow_rgb(torchvision.utils.make_grid(t))\n",
        "ske, t = ske.unsqueeze(0), t.unsqueeze(0)\n",
        "\n",
        "with torch.no_grad():\n",
        "   \n",
        "  out_img, _ = model(ske.cuda(), t.cuda())\n",
        "  print(out_img.shape)\n",
        "  imshow_rgb(torchvision.utils.make_grid(out_img[0].cpu()))"
      ],
      "execution_count": null,
      "outputs": []
    }
  ]
}